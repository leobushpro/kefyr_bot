{
 "cells": [
  {
   "cell_type": "markdown",
   "metadata": {},
   "source": [
    "# Kefir Q&A Bot\n",
    "\n",
    "This notebook implements a simple question-answering system about kefir using natural language processing techniques."
   ]
  },
  {
   "cell_type": "markdown",
   "metadata": {},
   "source": [
    "## 1. Setup and Dependencies\n",
    "\n",
    "First, let's import all necessary libraries and set up our environment."
   ]
  },
  {
   "cell_type": "code",
   "execution_count": null,
   "metadata": {},
   "source": [
    "# Import required libraries\n",
    "import pandas as pd\n",
    "import numpy as np\n",
    "from sklearn.feature_extraction.text import TfidfVectorizer\n",
    "from sklearn.metrics.pairwise import cosine_similarity\n",
    "import nltk\n",
    "from nltk.tokenize import word_tokenize\n",
    "from nltk.corpus import stopwords\n",
    "import re\n",
    "\n",
    "# Download required NLTK data\n",
    "nltk.download('punkt')\n",
    "nltk.download('stopwords')"
   ]
  },
  {
   "cell_type": "markdown",
   "metadata": {},
   "source": [
    "## 2. Data Loading and Preprocessing\n",
    "\n",
    "In this section, we'll load the kefir knowledge base and preprocess it for better performance."
   ]
  },
  {
   "cell_type": "code",
   "execution_count": null,
   "metadata": {},
   "source": [
    "def load_kefir_knowledge():\n",
    "    \"\"\"\n",
    "    Load kefir knowledge from external file\n",
    "    Returns: List of text segments about kefir\n",
    "    \"\"\"\n",
    "    try:\n",
    "        with open('kefir_knowledge.txt', 'r', encoding='utf-8') as file:\n",
    "            content = file.read()\n",
    "            # Split content into paragraphs\n",
    "            paragraphs = [p.strip() for p in content.split('\\n\\n') if p.strip()]\n",
    "        return paragraphs\n",
    "    except FileNotFoundError:\n",
    "        print(\"Warning: kefir_knowledge.txt not found. Please create this file with kefir information.\")\n",
    "        return []\n",
    "\n",
    "def preprocess_text(text):\n",
    "    \"\"\"\n",
    "    Preprocess text by removing special characters and converting to lowercase\n",
    "    Args:\n",
    "        text (str): Input text\n",
    "    Returns:\n",
    "        str: Preprocessed text\n",
    "    \"\"\"\n",
    "    # Convert to lowercase\n",
    "    text = text.lower()\n",
    "    # Remove special characters\n",
    "    text = re.sub(r'[^\\w\\s]', '', text)\n",
    "    return text\n",
    "\n",
    "# Load and preprocess kefir knowledge\n",
    "kefir_knowledge = load_kefir_knowledge()\n",
    "processed_knowledge = [preprocess_text(text) for text in kefir_knowledge]"
   ]
  },
  {
   "cell_type": "markdown",
   "metadata": {},
   "source": [
    "## 3. Question Answering System\n",
    "\n",
    "This section implements the core Q&A functionality using TF-IDF and cosine similarity."
   ]
  },
  {
   "cell_type": "code",
   "execution_count": null,
   "metadata": {},
   "source": [
    "class KefirQABot:\n",
    "    def __init__(self, knowledge_base):\n",
    "        \"\"\"\n",
    "        Initialize the Q&A bot with a knowledge base\n",
    "        Args:\n",
    "            knowledge_base (list): List of text segments about kefir\n",
    "        \"\"\"\n",
    "        self.knowledge_base = knowledge_base\n",
    "        self.vectorizer = TfidfVectorizer()\n",
    "        self.knowledge_vectors = self.vectorizer.fit_transform(knowledge_base)\n",
    "    \n",
    "    def answer_question(self, question, top_k=1):\n",
    "        \"\"\"\n",
    "        Answer a question about kefir\n",
    "        Args:\n",
    "            question (str): The question to answer\n",
    "            top_k (int): Number of top answers to return\n",
    "        Returns:\n",
    "            list: Top k answers from the knowledge base\n",
    "        \"\"\"\n",
    "        # Preprocess the question\n",
    "        processed_question = preprocess_text(question)\n",
    "        \n",
    "        # Transform question to vector\n",
    "        question_vector = self.vectorizer.transform([processed_question])\n",
    "        \n",
    "        # Calculate similarity scores\n",
    "        similarity_scores = cosine_similarity(question_vector, self.knowledge_vectors).flatten()\n",
    "        \n",
    "        # Get top k answers\n",
    "        top_indices = similarity_scores.argsort()[-top_k:][::-1]\n",
    "        \n",
    "        return [self.knowledge_base[idx] for idx in top_indices]\n",
    "\n",
    "# Initialize the bot\n",
    "qa_bot = KefirQABot(processed_knowledge)"
   ]
  },
  {
   "cell_type": "markdown",
   "metadata": {},
   "source": [
    "## 4. Interactive Testing\n",
    "\n",
    "Test the Q&A bot with some example questions."
   ]
  },
  {
   "cell_type": "code",
   "execution_count": null,
   "metadata": {},
   "source": [
    "def test_qa_bot():\n",
    "    \"\"\"\n",
    "    Interactive function to test the Q&A bot\n",
    "    \"\"\"\n",
    "    print(\"Welcome to the Kefir Q&A Bot! Type 'quit' to exit.\")\n",
    "    \n",
    "    while True:\n",
    "        question = input(\"\\nAsk a question about kefir: \")\n",
    "        \n",
    "        if question.lower() == 'quit':\n",
    "            break\n",
    "            \n",
    "        answers = qa_bot.answer_question(question)\n",
    "        print(\"\\nAnswer:\")\n",
    "        for i, answer in enumerate(answers, 1):\n",
    "            print(f\"{i}. {answer}\")\n",
    "\n",
    "# Uncomment to run the interactive test\n",
    "# test_qa_bot()"
   ]
  },
  {
   "cell_type": "markdown",
   "metadata": {},
   "source": [
    "## 5. Example Questions\n",
    "\n",
    "Here are some example questions you can try:\n",
    "\n",
    "1. What is kefir?\n",
    "2. How is kefir made?\n",
    "3. What are the health benefits of kefir?\n",
    "4. How long does it take to ferment kefir?\n",
    "5. What's the difference between kefir and yogurt?\n",
    "6. How should kefir be stored?\n",
    "7. Can kefir be made with non-dairy milk?"
   ]
  }
 ],
 "metadata": {
  "kernelspec": {
   "display_name": "Python 3",
   "language": "python",
   "name": "python3"
  },
  "language_info": {
   "codemirror_mode": {
    "name": "ipython",
    "version": 3
   },
   "file_extension": ".py",
   "mimetype": "text/x-python",
   "name": "python",
   "nbconvert_exporter": "python",
   "pygments_lexer": "ipython3",
   "version": "3.8.0"
  }
 },
 "nbformat": 4,
 "nbformat_minor": 4
}